{
 "cells": [
  {
   "cell_type": "markdown",
   "id": "8cda6880",
   "metadata": {},
   "source": [
    "## Memory Management\n"
   ]
  },
  {
   "cell_type": "markdown",
   "id": "157a466a",
   "metadata": {},
   "source": [
    "It involves automatic garbage collection, reference counting, various internal optimization to efficiently manage memory allocation and deallocation.\n"
   ]
  },
  {
   "cell_type": "markdown",
   "id": "01c9c63d",
   "metadata": {},
   "source": [
    "## Reference Counting\n",
    "\n",
    "Primary method python uses to manage memory. Each object in python maintains count of references point to it. When reference count drops to zero the memory occupied by object is deallocated\n"
   ]
  },
  {
   "cell_type": "code",
   "execution_count": 1,
   "id": "d52a99c3",
   "metadata": {},
   "outputs": [],
   "source": [
    "import sys"
   ]
  },
  {
   "cell_type": "code",
   "execution_count": 2,
   "id": "519c7464",
   "metadata": {},
   "outputs": [
    {
     "name": "stdout",
     "output_type": "stream",
     "text": [
      "2\n"
     ]
    }
   ],
   "source": [
    "a = []\n",
    "\n",
    "# 2 - because one from 'a' and one from getrefcount()\n",
    "print(sys.getrefcount(a))"
   ]
  },
  {
   "cell_type": "code",
   "execution_count": 3,
   "id": "9357ffb1",
   "metadata": {},
   "outputs": [
    {
     "name": "stdout",
     "output_type": "stream",
     "text": [
      "3\n"
     ]
    }
   ],
   "source": [
    "b = a\n",
    "print(sys.getrefcount(b))"
   ]
  },
  {
   "cell_type": "code",
   "execution_count": 4,
   "id": "47a7d6a9",
   "metadata": {},
   "outputs": [
    {
     "name": "stdout",
     "output_type": "stream",
     "text": [
      "2\n"
     ]
    }
   ],
   "source": [
    "del b\n",
    "print(sys.getrefcount(a))"
   ]
  },
  {
   "cell_type": "markdown",
   "id": "053fe7df",
   "metadata": {},
   "source": [
    "## Garbage Collection\n",
    "\n",
    "Python includes cyclic garbage collector to handle reference cycles. Reference cycles occur when objects reference each other, preventing their reference counts from reaching zero.\n"
   ]
  },
  {
   "cell_type": "code",
   "execution_count": 5,
   "id": "70acabb4",
   "metadata": {},
   "outputs": [],
   "source": [
    "import gc"
   ]
  },
  {
   "cell_type": "code",
   "execution_count": 6,
   "id": "d4f2dd63",
   "metadata": {},
   "outputs": [],
   "source": [
    "## enable/disable garbage collection\n",
    "gc.enable()\n",
    "gc.disable()"
   ]
  },
  {
   "cell_type": "code",
   "execution_count": 7,
   "id": "db9cdb49",
   "metadata": {},
   "outputs": [
    {
     "data": {
      "text/plain": [
       "34"
      ]
     },
     "execution_count": 7,
     "metadata": {},
     "output_type": "execute_result"
    }
   ],
   "source": [
    "gc.collect()"
   ]
  },
  {
   "cell_type": "code",
   "execution_count": 8,
   "id": "79f43898",
   "metadata": {},
   "outputs": [
    {
     "data": {
      "text/plain": [
       "[{'collections': 65, 'collected': 1794, 'uncollectable': 0},\n",
       " {'collections': 5, 'collected': 24, 'uncollectable': 0},\n",
       " {'collections': 1, 'collected': 34, 'uncollectable': 0}]"
      ]
     },
     "execution_count": 8,
     "metadata": {},
     "output_type": "execute_result"
    }
   ],
   "source": [
    "# garbage collection stats\n",
    "gc.get_stats()"
   ]
  },
  {
   "cell_type": "code",
   "execution_count": 9,
   "id": "353b74a3",
   "metadata": {},
   "outputs": [
    {
     "data": {
      "text/plain": [
       "[]"
      ]
     },
     "execution_count": 9,
     "metadata": {},
     "output_type": "execute_result"
    }
   ],
   "source": [
    "# get unreachable objects\n",
    "gc.garbage"
   ]
  },
  {
   "cell_type": "markdown",
   "id": "d06a650c",
   "metadata": {},
   "source": [
    "## Memory Management Best Practices\n",
    "\n",
    "1. Use local variables over global variables\n",
    "2. Avoid circular references\n",
    "3. Use generators\n",
    "4. Explicitly Delete Objects\n",
    "5. Profile Memory Usage\n"
   ]
  },
  {
   "cell_type": "code",
   "execution_count": 10,
   "id": "2846992a",
   "metadata": {},
   "outputs": [],
   "source": [
    "import gc"
   ]
  },
  {
   "cell_type": "code",
   "execution_count": 11,
   "id": "f96e4449",
   "metadata": {},
   "outputs": [],
   "source": [
    "class MyObject:\n",
    "    def __init__(self, name):\n",
    "        self.name = name\n",
    "        print(f\"Object {self.name} created\")\n",
    "\n",
    "    def __del__(self):\n",
    "        print(f\"Object {self.name} deleted\")"
   ]
  },
  {
   "cell_type": "code",
   "execution_count": 12,
   "id": "a32ea061",
   "metadata": {},
   "outputs": [
    {
     "name": "stdout",
     "output_type": "stream",
     "text": [
      "Object obj1 created\n",
      "Object obj2 created\n",
      "Object obj3 created\n",
      "Object obj3 deleted\n"
     ]
    }
   ],
   "source": [
    "obj1 = MyObject(\"obj1\")\n",
    "obj2 = MyObject(\"obj2\")\n",
    "obj3 = MyObject(\"obj3\")\n",
    "\n",
    "obj1.ref = obj2\n",
    "obj2.ref = obj1\n",
    "\n",
    "del obj1\n",
    "del obj2\n",
    "del obj3"
   ]
  },
  {
   "cell_type": "code",
   "execution_count": 13,
   "id": "67e09156",
   "metadata": {},
   "outputs": [
    {
     "name": "stdout",
     "output_type": "stream",
     "text": [
      "Object obj1 deleted\n",
      "Object obj2 deleted\n"
     ]
    },
    {
     "data": {
      "text/plain": [
       "2"
      ]
     },
     "execution_count": 13,
     "metadata": {},
     "output_type": "execute_result"
    }
   ],
   "source": [
    "# even after deleting objects memory for obj1 and obj2 is not be garbage collected\n",
    "# because of circular reference, so need to manually trigger garbage collector\n",
    "\n",
    "gc.collect()"
   ]
  },
  {
   "cell_type": "code",
   "execution_count": 14,
   "id": "c4befcb0",
   "metadata": {},
   "outputs": [
    {
     "data": {
      "text/plain": [
       "[]"
      ]
     },
     "execution_count": 14,
     "metadata": {},
     "output_type": "execute_result"
    }
   ],
   "source": [
    "gc.garbage"
   ]
  },
  {
   "cell_type": "code",
   "execution_count": 15,
   "id": "4fa45140",
   "metadata": {},
   "outputs": [
    {
     "name": "stdout",
     "output_type": "stream",
     "text": [
      "0\n",
      "1\n",
      "2\n",
      "3\n",
      "4\n",
      "5\n",
      "6\n",
      "7\n",
      "8\n",
      "9\n",
      "10\n",
      "11\n"
     ]
    }
   ],
   "source": [
    "def generate_numbers(n):\n",
    "    for i in range(n):\n",
    "        yield i\n",
    "\n",
    "\n",
    "for num in generate_numbers(100000):\n",
    "    print(num)\n",
    "    if num > 10:\n",
    "        break"
   ]
  },
  {
   "cell_type": "code",
   "execution_count": 16,
   "id": "fd3d2f8e",
   "metadata": {},
   "outputs": [],
   "source": [
    "import tracemalloc\n",
    "\n",
    "\n",
    "def create_list():\n",
    "    return [i for i in range(10000)]\n",
    "\n",
    "\n",
    "def main():\n",
    "    tracemalloc.start()\n",
    "    create_list()\n",
    "    snapshot = tracemalloc.take_snapshot()\n",
    "    top_stats = snapshot.statistics(\"lineno\")\n",
    "    print(\"[Top 10]\")\n",
    "    for stat in top_stats[:10]:\n",
    "        print(stat)"
   ]
  },
  {
   "cell_type": "code",
   "execution_count": 18,
   "id": "7141c160",
   "metadata": {},
   "outputs": [
    {
     "name": "stdout",
     "output_type": "stream",
     "text": [
      "[Top 10]\n",
      "/opt/homebrew/Cellar/python@3.13/3.13.3/Frameworks/Python.framework/Versions/3.13/lib/python3.13/json/decoder.py:361: size=1452 B, count=22, average=66 B\n",
      "/Users/sudhanshu/Documents/ML-Journey/.venv/lib/python3.13/site-packages/jupyter_client/session.py:100: size=1241 B, count=8, average=155 B\n",
      "/opt/homebrew/Cellar/python@3.13/3.13.3/Frameworks/Python.framework/Versions/3.13/lib/python3.13/contextlib.py:109: size=1136 B, count=11, average=103 B\n",
      "/Users/sudhanshu/Documents/ML-Journey/.venv/lib/python3.13/site-packages/zmq/sugar/socket.py:802: size=1056 B, count=6, average=176 B\n",
      "/Users/sudhanshu/Documents/ML-Journey/.venv/lib/python3.13/site-packages/IPython/core/compilerop.py:86: size=776 B, count=9, average=86 B\n",
      "/Users/sudhanshu/Documents/ML-Journey/.venv/lib/python3.13/site-packages/jupyter_client/session.py:1057: size=706 B, count=5, average=141 B\n",
      "/Users/sudhanshu/Documents/ML-Journey/.venv/lib/python3.13/site-packages/traitlets/traitlets.py:731: size=628 B, count=10, average=63 B\n",
      "/Users/sudhanshu/Documents/ML-Journey/.venv/lib/python3.13/site-packages/IPython/core/history.py:1011: size=608 B, count=7, average=87 B\n",
      "/Users/sudhanshu/Documents/ML-Journey/.venv/lib/python3.13/site-packages/ipykernel/iostream.py:346: size=600 B, count=9, average=67 B\n",
      "/Users/sudhanshu/Documents/ML-Journey/.venv/lib/python3.13/site-packages/ipykernel/iostream.py:276: size=592 B, count=6, average=99 B\n"
     ]
    }
   ],
   "source": [
    "main()"
   ]
  }
 ],
 "metadata": {
  "kernelspec": {
   "display_name": ".venv",
   "language": "python",
   "name": "python3"
  },
  "language_info": {
   "codemirror_mode": {
    "name": "ipython",
    "version": 3
   },
   "file_extension": ".py",
   "mimetype": "text/x-python",
   "name": "python",
   "nbconvert_exporter": "python",
   "pygments_lexer": "ipython3",
   "version": "3.13.3"
  }
 },
 "nbformat": 4,
 "nbformat_minor": 5
}
