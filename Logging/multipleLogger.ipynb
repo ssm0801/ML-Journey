{
 "cells": [
  {
   "cell_type": "markdown",
   "id": "a218bfbc",
   "metadata": {},
   "source": [
    "## Multiple Loggers"
   ]
  },
  {
   "cell_type": "code",
   "execution_count": 1,
   "id": "2f064e0e",
   "metadata": {},
   "outputs": [],
   "source": [
    "import logging as logger"
   ]
  },
  {
   "cell_type": "markdown",
   "id": "80bfed67",
   "metadata": {},
   "source": [
    "## getLogger() used to create separate logger for modules"
   ]
  },
  {
   "cell_type": "code",
   "execution_count": 2,
   "id": "f913ef47",
   "metadata": {},
   "outputs": [],
   "source": [
    "logger1 = logger.getLogger(\"module1\")\n",
    "logger1.setLevel(logger.DEBUG)\n",
    "\n",
    "logger2 = logger.getLogger(\"module2\")\n",
    "logger2.setLevel(logger.INFO)"
   ]
  },
  {
   "cell_type": "code",
   "execution_count": 3,
   "id": "4c769071",
   "metadata": {},
   "outputs": [],
   "source": [
    "logger.basicConfig(\n",
    "    level=logger.DEBUG,\n",
    "    format='%(asctime)s - %(name)s - %(levelname)s - %(message)s',\n",
    "    datefmt='%Y-%m-%d %H:%M:%S'\n",
    ")"
   ]
  },
  {
   "cell_type": "code",
   "execution_count": 4,
   "id": "9eeeda96",
   "metadata": {},
   "outputs": [
    {
     "name": "stderr",
     "output_type": "stream",
     "text": [
      "2025-08-14 23:28:21 - module1 - DEBUG - debug message for module 1\n",
      "2025-08-14 23:28:21 - module1 - INFO - info message for module 1\n"
     ]
    }
   ],
   "source": [
    "logger1.debug(\"debug message for module 1\")\n",
    "logger1.info(\"info message for module 1\")"
   ]
  },
  {
   "cell_type": "code",
   "execution_count": 5,
   "id": "8beb0d79",
   "metadata": {},
   "outputs": [
    {
     "name": "stderr",
     "output_type": "stream",
     "text": [
      "2025-08-14 23:28:21 - module2 - WARNING - debug message for module 2\n"
     ]
    }
   ],
   "source": [
    "logger2.debug(\"debug message for module 1\")\n",
    "logger2.warning(\"debug message for module 2\")"
   ]
  }
 ],
 "metadata": {
  "kernelspec": {
   "display_name": ".venv",
   "language": "python",
   "name": "python3"
  },
  "language_info": {
   "codemirror_mode": {
    "name": "ipython",
    "version": 3
   },
   "file_extension": ".py",
   "mimetype": "text/x-python",
   "name": "python",
   "nbconvert_exporter": "python",
   "pygments_lexer": "ipython3",
   "version": "3.13.3"
  }
 },
 "nbformat": 4,
 "nbformat_minor": 5
}
