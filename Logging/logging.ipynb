{
 "cells": [
  {
   "cell_type": "markdown",
   "id": "96418fd4",
   "metadata": {},
   "source": [
    "## Logging\n"
   ]
  },
  {
   "cell_type": "code",
   "execution_count": 1,
   "id": "f5db7e68",
   "metadata": {},
   "outputs": [],
   "source": [
    "import logging as logger"
   ]
  },
  {
   "cell_type": "markdown",
   "id": "bc3b636d",
   "metadata": {},
   "source": [
    "## Logger configurations\n",
    "\n",
    "### Default file mode is \"a\" (append)\n"
   ]
  },
  {
   "cell_type": "code",
   "execution_count": 2,
   "id": "313e902c",
   "metadata": {},
   "outputs": [],
   "source": [
    "logger.basicConfig(\n",
    "    level=logger.DEBUG,\n",
    "    format='%(asctime)s - %(name)s - %(levelname)s - %(message)s',\n",
    "    datefmt='%Y-%m-%d %H:%M:%S',\n",
    "    filename='app.log'\n",
    ")"
   ]
  },
  {
   "cell_type": "markdown",
   "id": "d1270171",
   "metadata": {},
   "source": [
    "#### Handlers can be used to log at multiple destinations with separate configurations as in log format, date format\n",
    "\n",
    "handlers=[\n",
    "    logger.FileHandler(\"app.log\"),\n",
    "    logger.StreamHandler()\n",
    "]"
   ]
  },
  {
   "cell_type": "markdown",
   "id": "35217cd4",
   "metadata": {},
   "source": [
    "## Log levels\n",
    "\n",
    "### 1. DEBUG : detailed info, for debug purpose\n",
    "\n",
    "### 2. INFO : confirmation, expected\n",
    "\n",
    "### 3. WARNING : something unexpected happened, program still working as expected\n",
    "\n",
    "### 4. ERROR : serious problem, can be handled, program not able to perform some action\n",
    "\n",
    "### 5. CRITICAL : very serios error, program not working\n",
    "\n",
    "#### The log level above set level can't be logged\n",
    "#### If you set log level as INFO, then you cant log DEBUG\n",
    "\n"
   ]
  },
  {
   "cell_type": "code",
   "execution_count": 3,
   "id": "930b141c",
   "metadata": {},
   "outputs": [],
   "source": [
    "logger.debug(\"debug message\")\n",
    "logger.info(\"info message\")\n",
    "logger.warning(\"warning message\")\n",
    "logger.error(\"error message\")\n",
    "logger.critical(\"critical message\")"
   ]
  },
  {
   "cell_type": "code",
   "execution_count": null,
   "id": "f74eb036",
   "metadata": {},
   "outputs": [],
   "source": []
  },
  {
   "cell_type": "code",
   "execution_count": null,
   "id": "84371934",
   "metadata": {},
   "outputs": [],
   "source": []
  },
  {
   "cell_type": "code",
   "execution_count": null,
   "id": "cdb0189f",
   "metadata": {},
   "outputs": [],
   "source": []
  }
 ],
 "metadata": {
  "kernelspec": {
   "display_name": ".venv",
   "language": "python",
   "name": "python3"
  },
  "language_info": {
   "codemirror_mode": {
    "name": "ipython",
    "version": 3
   },
   "file_extension": ".py",
   "mimetype": "text/x-python",
   "name": "python",
   "nbconvert_exporter": "python",
   "pygments_lexer": "ipython3",
   "version": "3.13.3"
  }
 },
 "nbformat": 4,
 "nbformat_minor": 5
}
