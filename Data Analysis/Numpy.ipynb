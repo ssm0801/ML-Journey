{
 "cells": [
  {
   "cell_type": "markdown",
   "id": "38d76d4b",
   "metadata": {},
   "source": [
    "## Numpy\n",
    "### work with arrays, matrices and perform mathematical ops"
   ]
  },
  {
   "cell_type": "code",
   "execution_count": 89,
   "id": "b883d711",
   "metadata": {},
   "outputs": [],
   "source": [
    "import numpy as np"
   ]
  },
  {
   "cell_type": "markdown",
   "id": "29048ce1",
   "metadata": {},
   "source": [
    "### Create Array"
   ]
  },
  {
   "cell_type": "code",
   "execution_count": 90,
   "id": "8dd8bb7c",
   "metadata": {},
   "outputs": [
    {
     "name": "stdout",
     "output_type": "stream",
     "text": [
      "Array :  [1 2 3 4 5]\n",
      "Array type:  <class 'numpy.ndarray'>\n",
      "Array shape:  (5,)\n",
      "Array dtype:  int64\n",
      "Array ndim:  1\n",
      "Array size:  5\n",
      "Array itemsize:  8\n",
      "Reshaped Array (5, 1): \n",
      " [[1]\n",
      " [2]\n",
      " [3]\n",
      " [4]\n",
      " [5]]\n"
     ]
    }
   ],
   "source": [
    "arr = np.array([1, 2, 3, 4, 5])\n",
    "print(\"Array : \", arr)\n",
    "print(\"Array type: \", str(type(arr)))\n",
    "print(\"Array shape: \", str(arr.shape))\n",
    "print(\"Array dtype: \", str(arr.dtype))\n",
    "print(\"Array ndim: \", str(arr.ndim))\n",
    "print(\"Array size: \", str(arr.size))\n",
    "print(\"Array itemsize: \", str(arr.itemsize))\n",
    "print(\"Reshaped Array (5, 1): \\n\", str(arr.reshape(5, 1)))"
   ]
  },
  {
   "cell_type": "code",
   "execution_count": 91,
   "id": "83bb055d",
   "metadata": {},
   "outputs": [
    {
     "name": "stdout",
     "output_type": "stream",
     "text": [
      "Array: \n",
      " [[1 2 3]\n",
      " [4 5 6]]\n",
      "Array shape:  (2, 3)\n",
      "Array dtype:  int64\n",
      "Array ndim:  2\n",
      "Array size:  6\n",
      "Array itemsize:  8\n",
      "Reshaped Array (3, 2): \n",
      " [[1 2]\n",
      " [3 4]\n",
      " [5 6]]\n"
     ]
    }
   ],
   "source": [
    "arr = np.array([[1, 2, 3], [4, 5, 6]])\n",
    "print(\"Array: \\n\", arr)\n",
    "print(\"Array shape: \", str(arr.shape))\n",
    "print(\"Array dtype: \", str(arr.dtype))\n",
    "print(\"Array ndim: \", str(arr.ndim))\n",
    "print(\"Array size: \", str(arr.size))\n",
    "print(\"Array itemsize: \", str(arr.itemsize))\n",
    "print(\"Reshaped Array (3, 2): \\n\", str(arr.reshape(3, 2)))"
   ]
  },
  {
   "cell_type": "markdown",
   "id": "c76286d1",
   "metadata": {},
   "source": [
    "## Inbuilt functions"
   ]
  },
  {
   "cell_type": "code",
   "execution_count": 92,
   "id": "8bbf4817",
   "metadata": {},
   "outputs": [
    {
     "name": "stdout",
     "output_type": "stream",
     "text": [
      "Array with arange:  [1 3 5 7 9]\n",
      "Array with ones: \n",
      " [[1. 1.]\n",
      " [1. 1.]\n",
      " [1. 1.]\n",
      " [1. 1.]\n",
      " [1. 1.]]\n",
      "Array with zeros: \n",
      " [[0. 0. 0. 0.]\n",
      " [0. 0. 0. 0.]\n",
      " [0. 0. 0. 0.]]\n",
      "Identity matrix: \n",
      " [[1. 0.]\n",
      " [0. 1.]\n",
      " [0. 0.]]\n"
     ]
    }
   ],
   "source": [
    "# start,stop,step\n",
    "arr = np.arange(1, 10, 2)\n",
    "print(\"Array with arange: \", arr)\n",
    "\n",
    "# shape\n",
    "arr = np.ones((5, 2))\n",
    "print(\"Array with ones: \\n\", arr)\n",
    "\n",
    "# shape\n",
    "arr = np.zeros((3, 4))\n",
    "print(\"Array with zeros: \\n\", arr)\n",
    "\n",
    "# shape\n",
    "arr = np.eye(3,2)\n",
    "print(\"Identity matrix: \\n\", arr)"
   ]
  },
  {
   "cell_type": "markdown",
   "id": "59d8fe84",
   "metadata": {},
   "source": [
    "### Math ops"
   ]
  },
  {
   "cell_type": "code",
   "execution_count": 93,
   "id": "797e2271",
   "metadata": {},
   "outputs": [
    {
     "name": "stdout",
     "output_type": "stream",
     "text": [
      "Addition:  [ 7  9 11 13 15]\n",
      "Subtraction:  [-5 -5 -5 -5 -5]\n",
      "Multiplication:  [ 6 14 24 36 50]\n",
      "Division:  [0.16666667 0.28571429 0.375      0.44444444 0.5       ]\n"
     ]
    }
   ],
   "source": [
    "arr1 = np.array([1, 2, 3, 4, 5])\n",
    "arr2 = np.array([6, 7, 8, 9, 10])\n",
    "print(\"Addition: \", arr1 + arr2)\n",
    "print(\"Subtraction: \", arr1 - arr2)\n",
    "print(\"Multiplication: \", arr1 * arr2)\n",
    "print(\"Division: \", arr1 / arr2)"
   ]
  },
  {
   "cell_type": "code",
   "execution_count": 94,
   "id": "49c28471",
   "metadata": {},
   "outputs": [
    {
     "name": "stdout",
     "output_type": "stream",
     "text": [
      "Square root:  [2. 3. 4. 5.]\n",
      "Exponential:  [5.45981500e+01 8.10308393e+03 8.88611052e+06 7.20048993e+10]\n",
      "Logarithm:  [1.38629436 2.19722458 2.77258872 3.21887582]\n",
      "Sin:  [-0.7568025   0.41211849 -0.28790332 -0.13235175]\n"
     ]
    }
   ],
   "source": [
    "arr = np.array([4, 9, 16, 25])\n",
    "print(\"Square root: \", np.sqrt(arr))\n",
    "print(\"Exponential: \", np.exp(arr))\n",
    "print(\"Logarithm: \", np.log(arr))\n",
    "print(\"Sin: \", np.sin(arr))"
   ]
  },
  {
   "cell_type": "code",
   "execution_count": 95,
   "id": "330173ee",
   "metadata": {},
   "outputs": [
    {
     "name": "stdout",
     "output_type": "stream",
     "text": [
      "Sum:  21\n",
      "Mean:  3.5\n",
      "Median:  3.5\n",
      "Standard Deviation:  1.707825127659933\n",
      "Variance:  2.9166666666666665\n",
      "Max:  6\n",
      "Min:  1\n",
      "Sum along axis 0:  [5 7 9]\n",
      "Sum along axis 1:  [ 6 15]\n"
     ]
    }
   ],
   "source": [
    "arr = np.array([[1, 2, 3], [4, 5, 6]])\n",
    "print(\"Sum: \", np.sum(arr))\n",
    "print(\"Mean: \", np.mean(arr))\n",
    "print(\"Median: \", np.median(arr))\n",
    "print(\"Standard Deviation: \", np.std(arr))\n",
    "print(\"Variance: \", np.var(arr))\n",
    "print(\"Max: \", np.max(arr))\n",
    "print(\"Min: \", np.min(arr))\n",
    "\n",
    "# Vertical\n",
    "print(\"Sum along axis 0: \", np.sum(arr, axis=0))\n",
    "# Horizontal\n",
    "print(\"Sum along axis 1: \", np.sum(arr, axis=1))"
   ]
  },
  {
   "cell_type": "markdown",
   "id": "9babd3be",
   "metadata": {},
   "source": [
    "## Slicing"
   ]
  },
  {
   "cell_type": "code",
   "execution_count": 96,
   "id": "6d03a019",
   "metadata": {},
   "outputs": [
    {
     "name": "stdout",
     "output_type": "stream",
     "text": [
      "Original Array: \n",
      " [[1 2 3]\n",
      " [4 5 6]\n",
      " [7 8 9]]\n",
      "Sliced Array (rows 0, cols 0): \n",
      " 1\n",
      "Sliced Array (rows 0-1, cols 1-2): \n",
      " [[2 3]\n",
      " [5 6]]\n",
      "Sliced Array (rows 1-2, all cols): \n",
      " [[4 5 6]\n",
      " [7 8 9]]\n",
      "Sliced Array (all rows, cols 0-1): \n",
      " [[1 2]\n",
      " [4 5]\n",
      " [7 8]]\n"
     ]
    }
   ],
   "source": [
    "arr = np.array([[1, 2, 3], [4, 5, 6], [7, 8, 9]])\n",
    "print(\"Original Array: \\n\", arr)\n",
    "print(\"Sliced Array (rows 0, cols 0): \\n\", arr[0, 0])\n",
    "print(\"Sliced Array (rows 0-1, cols 1-2): \\n\", arr[0:2, 1:3])\n",
    "print(\"Sliced Array (rows 1-2, all cols): \\n\", arr[1:3, :])\n",
    "print(\"Sliced Array (all rows, cols 0-1): \\n\", arr[:, 0:2])"
   ]
  },
  {
   "cell_type": "markdown",
   "id": "1d5ea18d",
   "metadata": {},
   "source": [
    "### Indexing"
   ]
  },
  {
   "cell_type": "code",
   "execution_count": 97,
   "id": "3740e172",
   "metadata": {},
   "outputs": [
    {
     "name": "stdout",
     "output_type": "stream",
     "text": [
      "[False False False False False  True  True  True  True  True]\n",
      "[ 6  7  8  9 10]\n",
      "[5 6 7 8]\n"
     ]
    }
   ],
   "source": [
    "arr = np.array([1, 2, 3, 4, 5, 6, 7, 8, 9, 10])\n",
    "print(arr > 5)\n",
    "print(arr[arr > 5])\n",
    "print(arr[(arr >= 5) & (arr <= 8)])"
   ]
  }
 ],
 "metadata": {
  "kernelspec": {
   "display_name": ".venv",
   "language": "python",
   "name": "python3"
  },
  "language_info": {
   "codemirror_mode": {
    "name": "ipython",
    "version": 3
   },
   "file_extension": ".py",
   "mimetype": "text/x-python",
   "name": "python",
   "nbconvert_exporter": "python",
   "pygments_lexer": "ipython3",
   "version": "3.13.3"
  }
 },
 "nbformat": 4,
 "nbformat_minor": 5
}
