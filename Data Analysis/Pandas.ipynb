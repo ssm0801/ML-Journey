{
 "cells": [
  {
   "cell_type": "markdown",
   "id": "8678eecf",
   "metadata": {},
   "source": [
    "## Pandas\n",
    "\n",
    "### data manipulation library, data analysis and cleanig using Series and DataFrame\n"
   ]
  },
  {
   "cell_type": "code",
   "execution_count": 255,
   "id": "c0d123ca",
   "metadata": {},
   "outputs": [],
   "source": [
    "import pandas as pd"
   ]
  },
  {
   "cell_type": "markdown",
   "id": "bc908f91",
   "metadata": {},
   "source": [
    "## Creating Series\n",
    "\n",
    "### 1D array like object\n"
   ]
  },
  {
   "cell_type": "markdown",
   "id": "8541f49e",
   "metadata": {},
   "source": [
    "#### From List\n"
   ]
  },
  {
   "cell_type": "code",
   "execution_count": 256,
   "id": "6ab86dd7",
   "metadata": {},
   "outputs": [
    {
     "name": "stdout",
     "output_type": "stream",
     "text": [
      "0    1\n",
      "1    2\n",
      "2    3\n",
      "3    4\n",
      "4    5\n",
      "dtype: int64\n"
     ]
    }
   ],
   "source": [
    "data = [1, 2, 3, 4, 5]\n",
    "series = pd.Series(data)\n",
    "print(series)"
   ]
  },
  {
   "cell_type": "markdown",
   "id": "13d3c006",
   "metadata": {},
   "source": [
    "#### From Dict\n"
   ]
  },
  {
   "cell_type": "code",
   "execution_count": 257,
   "id": "1ef4bce8",
   "metadata": {},
   "outputs": [
    {
     "name": "stdout",
     "output_type": "stream",
     "text": [
      "a    1\n",
      "b    2\n",
      "c    3\n",
      "dtype: int64\n"
     ]
    }
   ],
   "source": [
    "data = {\"a\": 1, \"b\": 2, \"c\": 3}\n",
    "series = pd.Series(data)\n",
    "print(series)"
   ]
  },
  {
   "cell_type": "markdown",
   "id": "d1cf8cbe",
   "metadata": {},
   "source": [
    "### Custom index in series\n"
   ]
  },
  {
   "cell_type": "code",
   "execution_count": 258,
   "id": "81433da8",
   "metadata": {},
   "outputs": [
    {
     "name": "stdout",
     "output_type": "stream",
     "text": [
      "a    10\n",
      "b    20\n",
      "b    30\n",
      "dtype: int64\n"
     ]
    }
   ],
   "source": [
    "data = [10, 20, 30]\n",
    "index = [\"a\", \"b\", \"b\"]\n",
    "series = pd.Series(data, index=index)\n",
    "print(series)"
   ]
  },
  {
   "cell_type": "markdown",
   "id": "b367e707",
   "metadata": {},
   "source": [
    "## Creating DataFrame\n",
    "\n",
    "### 2D array like object\n"
   ]
  },
  {
   "cell_type": "markdown",
   "id": "e738f4d0",
   "metadata": {},
   "source": [
    "### From Dict of Lists\n"
   ]
  },
  {
   "cell_type": "code",
   "execution_count": 259,
   "id": "2fcb2762",
   "metadata": {},
   "outputs": [
    {
     "name": "stdout",
     "output_type": "stream",
     "text": [
      "      name  age         city\n",
      "0    Alice   25     New York\n",
      "1      Bob   30  Los Angeles\n",
      "2  Charlie   35      Chicago\n"
     ]
    }
   ],
   "source": [
    "data = {\n",
    "    \"name\": [\"Alice\", \"Bob\", \"Charlie\"],\n",
    "    \"age\": [25, 30, 35],\n",
    "    \"city\": [\"New York\", \"Los Angeles\", \"Chicago\"],\n",
    "}\n",
    "\n",
    "df = pd.DataFrame(data)\n",
    "print(df)"
   ]
  },
  {
   "cell_type": "markdown",
   "id": "8c047bfa",
   "metadata": {},
   "source": [
    "### From List of Dicts\n"
   ]
  },
  {
   "cell_type": "code",
   "execution_count": 260,
   "id": "fcabce85",
   "metadata": {},
   "outputs": [
    {
     "name": "stdout",
     "output_type": "stream",
     "text": [
      "      name  age         city\n",
      "0    Alice   25     New York\n",
      "1      Bob   30  Los Angeles\n",
      "2  Charlie   35      Chicago\n"
     ]
    }
   ],
   "source": [
    "data = [\n",
    "    {\"name\": \"Alice\", \"age\": 25, \"city\": \"New York\"},\n",
    "    {\"name\": \"Bob\", \"age\": 30, \"city\": \"Los Angeles\"},\n",
    "    {\"name\": \"Charlie\", \"age\": 35, \"city\": \"Chicago\"},\n",
    "]\n",
    "\n",
    "df = pd.DataFrame(data)\n",
    "print(df)"
   ]
  },
  {
   "cell_type": "markdown",
   "id": "3550bf8f",
   "metadata": {},
   "source": [
    "### From CSV\n"
   ]
  },
  {
   "cell_type": "code",
   "execution_count": 261,
   "id": "356246e3",
   "metadata": {},
   "outputs": [
    {
     "name": "stdout",
     "output_type": "stream",
     "text": [
      "        name  age        city\n",
      "0  Sudhanshu   24   Hyderabad\n",
      "1       Ansh   24        Pune\n",
      "2       Jack   26  Coimbatore\n"
     ]
    }
   ],
   "source": [
    "df = pd.read_csv(\"data.csv\")\n",
    "print(df)"
   ]
  },
  {
   "cell_type": "markdown",
   "id": "0860270d",
   "metadata": {},
   "source": [
    "## Indexing DataFrame\n"
   ]
  },
  {
   "cell_type": "code",
   "execution_count": 262,
   "id": "6abb53a2",
   "metadata": {},
   "outputs": [],
   "source": [
    "df = pd.read_csv(\"data.csv\")"
   ]
  },
  {
   "cell_type": "code",
   "execution_count": 263,
   "id": "bcf7aedd",
   "metadata": {},
   "outputs": [
    {
     "name": "stdout",
     "output_type": "stream",
     "text": [
      "0    Sudhanshu\n",
      "1         Ansh\n",
      "2         Jack\n",
      "Name: name, dtype: object\n",
      "        name  age       city\n",
      "0  Sudhanshu   24  Hyderabad\n"
     ]
    }
   ],
   "source": [
    "# Accessing columns\n",
    "print(df[\"name\"])\n",
    "\n",
    "# Accessing rows\n",
    "print(df[0:1])"
   ]
  },
  {
   "cell_type": "code",
   "execution_count": 264,
   "id": "6153d6ee",
   "metadata": {},
   "outputs": [
    {
     "name": "stdout",
     "output_type": "stream",
     "text": [
      "name    Sudhanshu\n",
      "age            24\n",
      "city    Hyderabad\n",
      "Name: 0, dtype: object\n",
      "        name  age\n",
      "0  Sudhanshu   24\n",
      "1       Ansh   24\n",
      "2       Jack   26\n"
     ]
    }
   ],
   "source": [
    "# Accessing rows by index\n",
    "print(df.iloc[0])\n",
    "print(df.iloc[:, 0:2])"
   ]
  },
  {
   "cell_type": "code",
   "execution_count": 265,
   "id": "8113cf90",
   "metadata": {},
   "outputs": [
    {
     "name": "stdout",
     "output_type": "stream",
     "text": [
      "name    Sudhanshu\n",
      "age            24\n",
      "city    Hyderabad\n",
      "Name: 0, dtype: object\n",
      "        name  age\n",
      "0  Sudhanshu   24\n",
      "1       Ansh   24\n"
     ]
    }
   ],
   "source": [
    "# Accessing rows by label\n",
    "print(df.loc[0])\n",
    "print(df.loc[0:1, \"name\":\"age\"])"
   ]
  },
  {
   "cell_type": "code",
   "execution_count": 266,
   "id": "78104086",
   "metadata": {},
   "outputs": [
    {
     "name": "stdout",
     "output_type": "stream",
     "text": [
      "Hyderabad\n"
     ]
    }
   ],
   "source": [
    "# Accessing single value by index\n",
    "print(df.iat[0, 2])"
   ]
  },
  {
   "cell_type": "code",
   "execution_count": 267,
   "id": "f1914f5e",
   "metadata": {},
   "outputs": [
    {
     "name": "stdout",
     "output_type": "stream",
     "text": [
      "Sudhanshu\n"
     ]
    }
   ],
   "source": [
    "# Accessing single value by label\n",
    "print(df.at[0, \"name\"])"
   ]
  }
 ],
 "metadata": {
  "kernelspec": {
   "display_name": ".venv",
   "language": "python",
   "name": "python3"
  },
  "language_info": {
   "codemirror_mode": {
    "name": "ipython",
    "version": 3
   },
   "file_extension": ".py",
   "mimetype": "text/x-python",
   "name": "python",
   "nbconvert_exporter": "python",
   "pygments_lexer": "ipython3",
   "version": "3.13.3"
  }
 },
 "nbformat": 4,
 "nbformat_minor": 5
}
