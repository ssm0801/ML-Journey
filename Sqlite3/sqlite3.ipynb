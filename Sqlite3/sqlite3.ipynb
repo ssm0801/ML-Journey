{
 "cells": [
  {
   "cell_type": "markdown",
   "id": "910050eb",
   "metadata": {},
   "source": [
    "## SQLite3\n"
   ]
  },
  {
   "cell_type": "code",
   "execution_count": 111,
   "id": "3f85bdfd",
   "metadata": {},
   "outputs": [],
   "source": [
    "import sqlite3"
   ]
  },
  {
   "cell_type": "markdown",
   "id": "929284e6",
   "metadata": {},
   "source": [
    "## Create / Connect Database\n"
   ]
  },
  {
   "cell_type": "code",
   "execution_count": 112,
   "id": "db00b38e",
   "metadata": {},
   "outputs": [],
   "source": [
    "connection = sqlite3.connect(\"temp.db\")\n",
    "\n",
    "# cursor is needed to iterate through tables and rows\n",
    "cursor = connection.cursor()"
   ]
  },
  {
   "cell_type": "markdown",
   "id": "3d541f41",
   "metadata": {},
   "source": [
    "## Create Table\n"
   ]
  },
  {
   "cell_type": "code",
   "execution_count": 113,
   "id": "d9ab66f7",
   "metadata": {},
   "outputs": [],
   "source": [
    "cursor.execute(\n",
    "    \"\"\"\n",
    "    CREATE TABLE IF NOT EXISTS employees (\n",
    "        id INTEGER PRIMARY KEY,\n",
    "        name TEXT NOT NULL,\n",
    "        age INTEGER,\n",
    "        department TEXT\n",
    "    )\n",
    "    \"\"\"\n",
    ")\n",
    "\n",
    "# Need to commit\n",
    "connection.commit()"
   ]
  },
  {
   "cell_type": "markdown",
   "id": "0444f781",
   "metadata": {},
   "source": [
    "## Insert in Table\n"
   ]
  },
  {
   "cell_type": "code",
   "execution_count": 114,
   "id": "555ae7d6",
   "metadata": {},
   "outputs": [],
   "source": [
    "# Single Insert\n",
    "cursor.execute(\n",
    "    \"INSERT INTO employees (name, age, department) VALUES ('Krish', 32, 'Data Scientist')\"\n",
    ")\n",
    "\n",
    "connection.commit()"
   ]
  },
  {
   "cell_type": "code",
   "execution_count": 115,
   "id": "29a5a634",
   "metadata": {},
   "outputs": [],
   "source": [
    "employees = [(\"Bob\", 25, \"Engineering\"), (\"Charlie\", 35, \"Finance\")]\n",
    "\n",
    "# Bulk Insert\n",
    "cursor.executemany(\n",
    "    \"INSERT INTO employees (name, age, department) VALUES (?,?,?)\", employees\n",
    ")\n",
    "connection.commit()"
   ]
  },
  {
   "cell_type": "markdown",
   "id": "24c1fe5b",
   "metadata": {},
   "source": [
    "## Query Table\n"
   ]
  },
  {
   "cell_type": "code",
   "execution_count": 116,
   "id": "b23c1806",
   "metadata": {},
   "outputs": [
    {
     "name": "stdout",
     "output_type": "stream",
     "text": [
      "(1, 'Krish', 32, 'Data Scientist')\n",
      "(2, 'Bob', 25, 'Engineering')\n",
      "(3, 'Charlie', 35, 'Finance')\n"
     ]
    }
   ],
   "source": [
    "cursor.execute(\"SELECT * FROM employees\")\n",
    "rows = cursor.fetchall()\n",
    "for row in rows:\n",
    "    print(row)"
   ]
  },
  {
   "cell_type": "markdown",
   "id": "abad814b",
   "metadata": {},
   "source": [
    "## Update Table\n"
   ]
  },
  {
   "cell_type": "code",
   "execution_count": 117,
   "id": "d42c55bb",
   "metadata": {},
   "outputs": [],
   "source": [
    "cursor.execute(\"UPDATE employees SET age = 34 WHERE name = 'Krish'\")\n",
    "connection.commit()"
   ]
  },
  {
   "cell_type": "code",
   "execution_count": 118,
   "id": "18812eaa",
   "metadata": {},
   "outputs": [
    {
     "name": "stdout",
     "output_type": "stream",
     "text": [
      "(1, 'Krish', 34, 'Data Scientist')\n",
      "(2, 'Bob', 25, 'Engineering')\n",
      "(3, 'Charlie', 35, 'Finance')\n"
     ]
    }
   ],
   "source": [
    "cursor.execute(\"SELECT * FROM employees\")\n",
    "rows = cursor.fetchall()\n",
    "for row in rows:\n",
    "    print(row)"
   ]
  },
  {
   "cell_type": "markdown",
   "id": "80b4074e",
   "metadata": {},
   "source": [
    "## Delete from Table\n"
   ]
  },
  {
   "cell_type": "code",
   "execution_count": 119,
   "id": "73723f14",
   "metadata": {},
   "outputs": [],
   "source": [
    "cursor.execute(\"DELETE FROM employees WHERE name = 'Bob'\")\n",
    "connection.commit()"
   ]
  },
  {
   "cell_type": "markdown",
   "id": "76492d0b",
   "metadata": {},
   "source": [
    "## Delete Table\n"
   ]
  },
  {
   "cell_type": "code",
   "execution_count": 120,
   "id": "5c08c0be",
   "metadata": {},
   "outputs": [],
   "source": [
    "cursor.execute(\"DROP TABLE employees\")\n",
    "connection.commit()"
   ]
  },
  {
   "cell_type": "markdown",
   "id": "e0459c86",
   "metadata": {},
   "source": [
    "## Practical\n"
   ]
  },
  {
   "cell_type": "code",
   "execution_count": 121,
   "id": "1e1e1b4e",
   "metadata": {},
   "outputs": [
    {
     "data": {
      "text/plain": [
       "<sqlite3.Cursor at 0x112e02f40>"
      ]
     },
     "execution_count": 121,
     "metadata": {},
     "output_type": "execute_result"
    }
   ],
   "source": [
    "connection = sqlite3.connect(\"sales_data.db\")\n",
    "cursor = connection.cursor()\n",
    "cursor.execute(\n",
    "    \"\"\"\n",
    "    CREATE TABLE IF NOT EXISTS sales (\n",
    "        id INTEGER PRIMARY KEY,\n",
    "        date TEXT NOT NULL,\n",
    "        product TEXT NOT NULL,\n",
    "        sales INTEGER,\n",
    "        region TEXT\n",
    "    )\n",
    "    \"\"\"\n",
    ")"
   ]
  },
  {
   "cell_type": "code",
   "execution_count": 122,
   "id": "247bac13",
   "metadata": {},
   "outputs": [],
   "source": [
    "sales_data = [\n",
    "    ('2023-01-01', 'ProductA', 100, 'North'),\n",
    "    ('2023-01-02', 'ProductB', 150, 'South'),\n",
    "    ('2023-01-03', 'ProductC', 200, 'East'),\n",
    "    ('2023-01-04', 'ProductD', 250, 'West')\n",
    "]\n",
    "cursor.executemany(\n",
    "    'INSERT INTO sales (date, product, sales, region) VALUES (?, ?, ?, ?)',\n",
    "    sales_data\n",
    ")\n",
    "connection.commit()"
   ]
  },
  {
   "cell_type": "code",
   "execution_count": 123,
   "id": "585ff37e",
   "metadata": {},
   "outputs": [
    {
     "name": "stdout",
     "output_type": "stream",
     "text": [
      "(1, '2023-01-01', 'ProductA', 100, 'North')\n",
      "(2, '2023-01-02', 'ProductB', 150, 'South')\n",
      "(3, '2023-01-03', 'ProductC', 200, 'East')\n",
      "(4, '2023-01-04', 'ProductD', 250, 'West')\n"
     ]
    }
   ],
   "source": [
    "cursor.execute(\"SELECT * FROM sales\")\n",
    "rows = cursor.fetchall()\n",
    "for row in rows:\n",
    "    print(row)"
   ]
  },
  {
   "cell_type": "code",
   "execution_count": 124,
   "id": "3f06ddf4",
   "metadata": {},
   "outputs": [],
   "source": [
    "\n",
    "cursor.execute(\"DROP TABLE sales\")\n",
    "connection.commit()"
   ]
  }
 ],
 "metadata": {
  "kernelspec": {
   "display_name": ".venv",
   "language": "python",
   "name": "python3"
  },
  "language_info": {
   "codemirror_mode": {
    "name": "ipython",
    "version": 3
   },
   "file_extension": ".py",
   "mimetype": "text/x-python",
   "name": "python",
   "nbconvert_exporter": "python",
   "pygments_lexer": "ipython3",
   "version": "3.13.3"
  }
 },
 "nbformat": 4,
 "nbformat_minor": 5
}
