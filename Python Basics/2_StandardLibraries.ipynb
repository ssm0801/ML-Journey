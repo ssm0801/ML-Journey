{
 "cells": [
  {
   "cell_type": "markdown",
   "id": "4c668633",
   "metadata": {},
   "source": [
    "## Arrays"
   ]
  },
  {
   "cell_type": "code",
   "execution_count": 27,
   "id": "a0bc345c",
   "metadata": {},
   "outputs": [
    {
     "name": "stdout",
     "output_type": "stream",
     "text": [
      "array('i', [1, 2, 3, 4])\n"
     ]
    }
   ],
   "source": [
    "import array\n",
    "\n",
    "arr = array.array('i', [1, 2, 3, 4])\n",
    "print(arr)"
   ]
  },
  {
   "cell_type": "markdown",
   "id": "169e4e50",
   "metadata": {},
   "source": [
    "## Maths"
   ]
  },
  {
   "cell_type": "code",
   "execution_count": 28,
   "id": "642c1e15",
   "metadata": {},
   "outputs": [
    {
     "name": "stdout",
     "output_type": "stream",
     "text": [
      "4.0\n",
      "3.141592653589793\n"
     ]
    }
   ],
   "source": [
    "import math\n",
    "\n",
    "print(math.sqrt(16))\n",
    "print(math.pi)"
   ]
  },
  {
   "cell_type": "markdown",
   "id": "3d68cc77",
   "metadata": {},
   "source": [
    "## Random"
   ]
  },
  {
   "cell_type": "code",
   "execution_count": 29,
   "id": "80088218",
   "metadata": {},
   "outputs": [
    {
     "name": "stdout",
     "output_type": "stream",
     "text": [
      "7\n",
      "banana\n"
     ]
    }
   ],
   "source": [
    "import random\n",
    "\n",
    "print(random.randint(1, 10))\n",
    "\n",
    "fruits = ['apple', 'banana', 'cherry']\n",
    "print(random.choice(fruits))"
   ]
  },
  {
   "cell_type": "markdown",
   "id": "20f4f146",
   "metadata": {},
   "source": [
    "## File and Directory "
   ]
  },
  {
   "cell_type": "code",
   "execution_count": 30,
   "id": "c9fb7c4d",
   "metadata": {},
   "outputs": [
    {
     "name": "stdout",
     "output_type": "stream",
     "text": [
      "/Users/sudhanshu/Documents/ML-Journey/Python Basics\n"
     ]
    }
   ],
   "source": [
    "import os\n",
    "\n",
    "print(os.getcwd())\n",
    "os.mkdir('test_dir')"
   ]
  },
  {
   "cell_type": "markdown",
   "id": "7a677be5",
   "metadata": {},
   "source": [
    "## High-Level File Operations"
   ]
  },
  {
   "cell_type": "code",
   "execution_count": 31,
   "id": "e81ce5d0",
   "metadata": {},
   "outputs": [
    {
     "data": {
      "text/plain": [
       "'destination.txt'"
      ]
     },
     "execution_count": 31,
     "metadata": {},
     "output_type": "execute_result"
    }
   ],
   "source": [
    "import shutil\n",
    "\n",
    "shutil.copyfile('source.txt', 'destination.txt')"
   ]
  },
  {
   "cell_type": "markdown",
   "id": "90d78250",
   "metadata": {},
   "source": [
    "## Data Serialization with JSON"
   ]
  },
  {
   "cell_type": "code",
   "execution_count": 32,
   "id": "1a652132",
   "metadata": {},
   "outputs": [
    {
     "name": "stdout",
     "output_type": "stream",
     "text": [
      "{\"name\": \"Krish\", \"age\": 25}\n",
      "<class 'str'>\n",
      "{'name': 'Krish', 'age': 25}\n",
      "<class 'dict'>\n"
     ]
    }
   ],
   "source": [
    "import json\n",
    "\n",
    "data = {'name': 'Krish', 'age': 25}\n",
    "json_str = json.dumps(data)\n",
    "print(json_str)\n",
    "print(type(json_str))\n",
    "\n",
    "parsed_data = json.loads(json_str)\n",
    "print(parsed_data)\n",
    "print(type(parsed_data))"
   ]
  },
  {
   "cell_type": "markdown",
   "id": "6bedaf16",
   "metadata": {},
   "source": [
    "## Working with CSV"
   ]
  },
  {
   "cell_type": "code",
   "execution_count": 33,
   "id": "f7ce8b72",
   "metadata": {},
   "outputs": [
    {
     "name": "stdout",
     "output_type": "stream",
     "text": [
      "['name', 'age']\n",
      "['Krish', '32']\n"
     ]
    }
   ],
   "source": [
    "import csv\n",
    "\n",
    "with open('example.csv', 'w', newline='') as file:\n",
    "    writer = csv.writer(file)\n",
    "    writer.writerow(['name', 'age'])\n",
    "    writer.writerow(['Krish', 32])\n",
    "\n",
    "with open('example.csv', 'r') as file:\n",
    "    reader = csv.reader(file)\n",
    "    for row in reader:\n",
    "        print(row)"
   ]
  },
  {
   "cell_type": "markdown",
   "id": "d1d5f29d",
   "metadata": {},
   "source": [
    "## Date and Time"
   ]
  },
  {
   "cell_type": "code",
   "execution_count": 34,
   "id": "c0b03ecf",
   "metadata": {},
   "outputs": [
    {
     "name": "stdout",
     "output_type": "stream",
     "text": [
      "2025-08-09 16:07:29.563906\n",
      "2025-08-08 16:07:29.563906\n"
     ]
    }
   ],
   "source": [
    "from datetime import datetime, timedelta\n",
    "\n",
    "now = datetime.now()\n",
    "print(now)\n",
    "\n",
    "yesterday = now - timedelta(days=1)\n",
    "print(yesterday)"
   ]
  },
  {
   "cell_type": "markdown",
   "id": "aecef11b",
   "metadata": {},
   "source": [
    "## Time"
   ]
  },
  {
   "cell_type": "code",
   "execution_count": 35,
   "id": "ca31e339",
   "metadata": {},
   "outputs": [
    {
     "name": "stdout",
     "output_type": "stream",
     "text": [
      "1754735849.574738\n",
      "1754735851.579981\n"
     ]
    }
   ],
   "source": [
    "import time\n",
    "\n",
    "print(time.time())\n",
    "\n",
    "time.sleep(2)\n",
    "\n",
    "print(time.time())"
   ]
  },
  {
   "cell_type": "markdown",
   "id": "8a440d46",
   "metadata": {},
   "source": [
    "## Regular Expression"
   ]
  },
  {
   "cell_type": "code",
   "execution_count": 36,
   "id": "0fdf4e83",
   "metadata": {},
   "outputs": [
    {
     "name": "stdout",
     "output_type": "stream",
     "text": [
      "123\n"
     ]
    }
   ],
   "source": [
    "import re\n",
    "\n",
    "pattern = r'\\d+'\n",
    "text = 'There are 123 apples.'\n",
    "\n",
    "match = re.search(pattern, text)\n",
    "\n",
    "if match:\n",
    "    print(match.group())"
   ]
  }
 ],
 "metadata": {
  "kernelspec": {
   "display_name": "Python 3",
   "language": "python",
   "name": "python3"
  },
  "language_info": {
   "codemirror_mode": {
    "name": "ipython",
    "version": 3
   },
   "file_extension": ".py",
   "mimetype": "text/x-python",
   "name": "python",
   "nbconvert_exporter": "python",
   "pygments_lexer": "ipython3",
   "version": "3.9.6"
  }
 },
 "nbformat": 4,
 "nbformat_minor": 5
}
