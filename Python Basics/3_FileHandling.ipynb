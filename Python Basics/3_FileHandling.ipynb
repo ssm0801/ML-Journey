{
 "cells": [
  {
   "cell_type": "markdown",
   "id": "badd06e4",
   "metadata": {},
   "source": [
    "## Reading whole file"
   ]
  },
  {
   "cell_type": "code",
   "execution_count": 39,
   "id": "6d42b27c",
   "metadata": {},
   "outputs": [],
   "source": [
    "with open('example.txt', 'r') as file:\n",
    "    content = file.read()"
   ]
  },
  {
   "cell_type": "markdown",
   "id": "ea27c6a3",
   "metadata": {},
   "source": [
    "## Creating and Writing to file"
   ]
  },
  {
   "cell_type": "code",
   "execution_count": 40,
   "id": "ea1b4b08",
   "metadata": {},
   "outputs": [],
   "source": [
    "with open('example.txt', 'w') as file:\n",
    "    file.write('Hello.\\n')\n",
    "    file.write('How are you.\\n')\n",
    "    file.write('I am good.\\n')"
   ]
  },
  {
   "cell_type": "markdown",
   "id": "a47f26d6",
   "metadata": {},
   "source": [
    "## Reading file line by line"
   ]
  },
  {
   "cell_type": "code",
   "execution_count": 41,
   "id": "c09aa2f3",
   "metadata": {},
   "outputs": [
    {
     "name": "stdout",
     "output_type": "stream",
     "text": [
      "Hello.\n",
      "How are you.\n",
      "I am good.\n"
     ]
    }
   ],
   "source": [
    "# Newline characters are included when reading lines. Use `.strip()` to remove them.\n",
    "\n",
    "with open('example.txt', 'r') as file:\n",
    "    for line in file:\n",
    "        print(line.strip())"
   ]
  },
  {
   "cell_type": "markdown",
   "id": "2540ff02",
   "metadata": {},
   "source": [
    "## Append to file"
   ]
  },
  {
   "cell_type": "code",
   "execution_count": 42,
   "id": "96e598e6",
   "metadata": {},
   "outputs": [],
   "source": [
    "with open('example.txt', 'a') as file:\n",
    "    file.write('Append operation taking place\\n')\n",
    "\n",
    "## Multiple lines\n",
    "\n",
    "lines = ['This is my first line\\n', 'Second line\\n', 'Third line\\n']\n",
    "with open('example.txt', 'a') as file:\n",
    "    file.writelines(lines)"
   ]
  },
  {
   "cell_type": "markdown",
   "id": "c05171a7",
   "metadata": {},
   "source": [
    "## Binary Files"
   ]
  },
  {
   "cell_type": "code",
   "execution_count": 43,
   "id": "4ce27f1b",
   "metadata": {},
   "outputs": [
    {
     "name": "stdout",
     "output_type": "stream",
     "text": [
      "b'Hello world'\n"
     ]
    }
   ],
   "source": [
    "with open('example.bin', 'wb') as file:\n",
    "    file.write(b'Hello world')\n",
    "\n",
    "with open('example.bin', 'rb') as file:\n",
    "    content = file.read()\n",
    "    print(content)"
   ]
  },
  {
   "cell_type": "markdown",
   "id": "30cb629b",
   "metadata": {},
   "source": [
    "## Copy from one file to another"
   ]
  },
  {
   "cell_type": "code",
   "execution_count": 44,
   "id": "f5bce6b1",
   "metadata": {},
   "outputs": [],
   "source": [
    "with open('example.txt', 'r') as source_file:\n",
    "    content = source_file.read()\n",
    "with open('destination.txt', 'w') as destination_file:\n",
    "    destination_file.write(content)"
   ]
  },
  {
   "cell_type": "markdown",
   "id": "43c6cb62",
   "metadata": {},
   "source": [
    "## Seek()"
   ]
  },
  {
   "cell_type": "code",
   "execution_count": 45,
   "id": "3f1355bc",
   "metadata": {},
   "outputs": [
    {
     "name": "stdout",
     "output_type": "stream",
     "text": [
      "Hello world\n",
      "This is a new line\n",
      "\n"
     ]
    }
   ],
   "source": [
    "with open('example.txt', 'w+') as file:\n",
    "    file.write('Hello world\\n')\n",
    "    file.write('This is a new line\\n')\n",
    "    file.seek(0)\n",
    "    content = file.read()\n",
    "    print(content)\n",
    "\n",
    "# seek(0) moves the file cursor to the beginning"
   ]
  }
 ],
 "metadata": {
  "kernelspec": {
   "display_name": "Python 3",
   "language": "python",
   "name": "python3"
  },
  "language_info": {
   "codemirror_mode": {
    "name": "ipython",
    "version": 3
   },
   "file_extension": ".py",
   "mimetype": "text/x-python",
   "name": "python",
   "nbconvert_exporter": "python",
   "pygments_lexer": "ipython3",
   "version": "3.9.6"
  }
 },
 "nbformat": 4,
 "nbformat_minor": 5
}
