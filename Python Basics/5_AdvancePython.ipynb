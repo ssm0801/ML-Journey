{
 "cells": [
  {
   "cell_type": "markdown",
   "id": "ce67c06a",
   "metadata": {},
   "source": [
    "## Iterators\n",
    "### Efficient looping and memory management, lazy loading"
   ]
  },
  {
   "cell_type": "code",
   "execution_count": 330,
   "id": "d2964281",
   "metadata": {},
   "outputs": [],
   "source": [
    "my_list = [1, 2, 3, 4, 5, 6]\n",
    "iterator = iter(my_list)"
   ]
  },
  {
   "cell_type": "code",
   "execution_count": 331,
   "id": "a0341cc9",
   "metadata": {},
   "outputs": [
    {
     "name": "stdout",
     "output_type": "stream",
     "text": [
      "1\n"
     ]
    }
   ],
   "source": [
    "try:\n",
    "    print(next(iterator))\n",
    "except StopIteration:\n",
    "    print('There are no elements in the iterator.')"
   ]
  },
  {
   "cell_type": "code",
   "execution_count": 332,
   "id": "bf30eb58",
   "metadata": {},
   "outputs": [],
   "source": [
    "my_string = 'he'\n",
    "string_iterator = iter(my_string)"
   ]
  },
  {
   "cell_type": "code",
   "execution_count": 333,
   "id": "114ef1be",
   "metadata": {},
   "outputs": [
    {
     "name": "stdout",
     "output_type": "stream",
     "text": [
      "h\n",
      "e\n"
     ]
    }
   ],
   "source": [
    "print(next(string_iterator))\n",
    "print(next(string_iterator))"
   ]
  },
  {
   "cell_type": "markdown",
   "id": "c77221a5",
   "metadata": {},
   "source": [
    "## Generators\n",
    "### Simple way to create iterators\n",
    "### yeild is used to generate values on fly but do not store in memory"
   ]
  },
  {
   "cell_type": "code",
   "execution_count": 334,
   "id": "6a30d632",
   "metadata": {},
   "outputs": [
    {
     "name": "stdout",
     "output_type": "stream",
     "text": [
      "0\n"
     ]
    }
   ],
   "source": [
    "def square(n):\n",
    "    for i in range(n):\n",
    "        return i * 2\n",
    "\n",
    "print(square(3))"
   ]
  },
  {
   "cell_type": "code",
   "execution_count": 335,
   "id": "daa40437",
   "metadata": {},
   "outputs": [
    {
     "name": "stdout",
     "output_type": "stream",
     "text": [
      "<generator object square at 0x1073a2510>\n"
     ]
    }
   ],
   "source": [
    "def square(n):\n",
    "    for i in range(n):\n",
    "        yield i * 2\n",
    "\n",
    "print(square(3))"
   ]
  },
  {
   "cell_type": "code",
   "execution_count": 336,
   "id": "26c05336",
   "metadata": {},
   "outputs": [
    {
     "name": "stdout",
     "output_type": "stream",
     "text": [
      "0\n",
      "2\n",
      "4\n"
     ]
    }
   ],
   "source": [
    "for i in square(3):\n",
    "    print(i)"
   ]
  },
  {
   "cell_type": "code",
   "execution_count": 337,
   "id": "df3f81e2",
   "metadata": {},
   "outputs": [
    {
     "name": "stdout",
     "output_type": "stream",
     "text": [
      "0\n",
      "2\n",
      "4\n"
     ]
    }
   ],
   "source": [
    "itr = square(3)\n",
    "print(next(itr))\n",
    "print(next(itr))\n",
    "print(next(itr))"
   ]
  },
  {
   "cell_type": "markdown",
   "id": "2be667a0",
   "metadata": {},
   "source": [
    "### Read large files"
   ]
  },
  {
   "cell_type": "code",
   "execution_count": 338,
   "id": "df3d51a4",
   "metadata": {},
   "outputs": [
    {
     "name": "stdout",
     "output_type": "stream",
     "text": [
      "Differences Between Iterators and Generators\n",
      "Iterators require the use of the iter() keyword, while generators are created using functions with the yield keyword.\n",
      "Generators save local variables and state between yields, returning values one at a time.\n",
      "Generators help write fast and compact code.\n",
      "Python iterators are generally more efficient compared to generators in some contexts, but generators excel in memory efficiency for large data streams.\n"
     ]
    }
   ],
   "source": [
    "def read_large_file(file_path):\n",
    "    with open(file_path, 'r') as file:\n",
    "        for line in file:\n",
    "            yield line\n",
    "\n",
    "file_path = 'example.txt'\n",
    "for line in read_large_file(file_path):\n",
    "    print(line.strip())"
   ]
  },
  {
   "cell_type": "markdown",
   "id": "9efa54e1",
   "metadata": {},
   "source": [
    "## Function Copy"
   ]
  },
  {
   "cell_type": "code",
   "execution_count": 339,
   "id": "269c4537",
   "metadata": {},
   "outputs": [],
   "source": [
    "def welcome():\n",
    "    return \"Welcome to the Advanced Python course\""
   ]
  },
  {
   "cell_type": "code",
   "execution_count": 340,
   "id": "2803a0f3",
   "metadata": {},
   "outputs": [
    {
     "name": "stdout",
     "output_type": "stream",
     "text": [
      "Welcome to the Advanced Python course\n",
      "Welcome to the Advanced Python course\n"
     ]
    }
   ],
   "source": [
    "well = welcome\n",
    "print(well())\n",
    "\n",
    "del welcome\n",
    "print(well())"
   ]
  },
  {
   "cell_type": "markdown",
   "id": "da005eb6",
   "metadata": {},
   "source": [
    "## Closures"
   ]
  },
  {
   "cell_type": "code",
   "execution_count": 341,
   "id": "2958b958",
   "metadata": {},
   "outputs": [],
   "source": [
    "def main_welcome():\n",
    "    message = \"Welcome\"\n",
    "    def sub_welcome():\n",
    "        print(\"Welcome to the Advanced Python course\")\n",
    "        print(message)\n",
    "        print(\"Please learn this concepts properly\")\n",
    "    return sub_welcome"
   ]
  },
  {
   "cell_type": "code",
   "execution_count": 342,
   "id": "8b7b6af6",
   "metadata": {},
   "outputs": [
    {
     "name": "stdout",
     "output_type": "stream",
     "text": [
      "Welcome to the Advanced Python course\n",
      "Welcome\n",
      "Please learn this concepts properly\n"
     ]
    }
   ],
   "source": [
    "closure_func = main_welcome()\n",
    "closure_func()"
   ]
  },
  {
   "cell_type": "code",
   "execution_count": 343,
   "id": "892b5019",
   "metadata": {},
   "outputs": [],
   "source": [
    "def main_welcome(func, msg):\n",
    "    def sub_welcome():\n",
    "        print(\"Welcome to the Advanced Python course\")\n",
    "        func(msg)\n",
    "        print(\"Please learn this concepts properly\")\n",
    "    return sub_welcome"
   ]
  },
  {
   "cell_type": "code",
   "execution_count": 344,
   "id": "5350240c",
   "metadata": {},
   "outputs": [
    {
     "name": "stdout",
     "output_type": "stream",
     "text": [
      "Welcome to the Advanced Python course\n",
      "Welcome everyone to this tutorial.\n",
      "Please learn this concepts properly\n"
     ]
    }
   ],
   "source": [
    "closure_func = main_welcome(print, \"Welcome everyone to this tutorial.\")\n",
    "closure_func()"
   ]
  },
  {
   "cell_type": "markdown",
   "id": "e01f961e",
   "metadata": {},
   "source": [
    "## Decorators\n",
    "### allow you to modify behaior of function or class method"
   ]
  },
  {
   "cell_type": "code",
   "execution_count": 345,
   "id": "243687ae",
   "metadata": {},
   "outputs": [],
   "source": [
    "def main_welcome(func):\n",
    "    def sub_welcome():\n",
    "        print(\"Welcome to the Advanced Python course\")\n",
    "        func()\n",
    "        print(\"Please learn this concepts properly\")\n",
    "    return sub_welcome"
   ]
  },
  {
   "cell_type": "code",
   "execution_count": 346,
   "id": "5ffc3056",
   "metadata": {},
   "outputs": [
    {
     "name": "stdout",
     "output_type": "stream",
     "text": [
      "Welcome to the Advanced Python course\n",
      "This is an advanced Python course\n",
      "Please learn this concepts properly\n"
     ]
    }
   ],
   "source": [
    "@main_welcome\n",
    "def course_introduction():\n",
    "    print(\"This is an advanced Python course\")\n",
    "\n",
    "course_introduction()"
   ]
  },
  {
   "cell_type": "code",
   "execution_count": 347,
   "id": "324fe4ee",
   "metadata": {},
   "outputs": [],
   "source": [
    "def repeat(n):\n",
    "    def decorator(func):\n",
    "        def wrapper(*args):\n",
    "            for i in range(n):\n",
    "                func(*args)\n",
    "        return wrapper\n",
    "    return decorator"
   ]
  },
  {
   "cell_type": "code",
   "execution_count": 348,
   "id": "01089769",
   "metadata": {},
   "outputs": [
    {
     "name": "stdout",
     "output_type": "stream",
     "text": [
      "Hello\n",
      "Hello\n",
      "Hello\n"
     ]
    }
   ],
   "source": [
    "@repeat(3)\n",
    "def say_hello():\n",
    "    print(\"Hello\")\n",
    "\n",
    "say_hello()"
   ]
  }
 ],
 "metadata": {
  "kernelspec": {
   "display_name": "Python 3",
   "language": "python",
   "name": "python3"
  },
  "language_info": {
   "codemirror_mode": {
    "name": "ipython",
    "version": 3
   },
   "file_extension": ".py",
   "mimetype": "text/x-python",
   "name": "python",
   "nbconvert_exporter": "python",
   "pygments_lexer": "ipython3",
   "version": "3.9.6"
  }
 },
 "nbformat": 4,
 "nbformat_minor": 5
}
