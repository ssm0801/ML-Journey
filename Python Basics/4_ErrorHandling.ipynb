{
 "cells": [
  {
   "cell_type": "markdown",
   "id": "2d472ab4",
   "metadata": {},
   "source": [
    "## Error Handling"
   ]
  },
  {
   "cell_type": "markdown",
   "id": "d05edf47",
   "metadata": {},
   "source": [
    "### try : contains code that may raise exception\n",
    "### except : handles exception if it occurs\n",
    "### else : executes if no exception is raised in try block\n",
    "### finally : executed no matter what"
   ]
  },
  {
   "cell_type": "code",
   "execution_count": 4,
   "id": "92ba39f7",
   "metadata": {},
   "outputs": [
    {
     "name": "stdout",
     "output_type": "stream",
     "text": [
      "The result is 5.0\n",
      "Execution complete.\n"
     ]
    }
   ],
   "source": [
    "try:\n",
    "    num = 2\n",
    "    result = 10 / num\n",
    "except ValueError:\n",
    "    print(\"Not a valid number.\")\n",
    "except ZeroDivisionError:\n",
    "    print(\"You can't divide the number by zero.\")\n",
    "except Exception as x:\n",
    "    print(x)\n",
    "else:\n",
    "    print(f\"The result is {result}\")\n",
    "finally:\n",
    "    print(\"Execution complete.\")"
   ]
  }
 ],
 "metadata": {
  "kernelspec": {
   "display_name": "Python 3",
   "language": "python",
   "name": "python3"
  },
  "language_info": {
   "codemirror_mode": {
    "name": "ipython",
    "version": 3
   },
   "file_extension": ".py",
   "mimetype": "text/x-python",
   "name": "python",
   "nbconvert_exporter": "python",
   "pygments_lexer": "ipython3",
   "version": "3.9.6"
  }
 },
 "nbformat": 4,
 "nbformat_minor": 5
}
